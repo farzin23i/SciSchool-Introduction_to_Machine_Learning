{
  "nbformat": 4,
  "nbformat_minor": 0,
  "metadata": {
    "colab": {
      "name": "ML-1_1-Linear_Regression.ipynb",
      "provenance": [],
      "collapsed_sections": [],
      "authorship_tag": "ABX9TyNPNZMRq8ROQd/xp/YsbUY1",
      "include_colab_link": true
    },
    "kernelspec": {
      "name": "python3",
      "display_name": "Python 3"
    },
    "language_info": {
      "name": "python"
    }
  },
  "cells": [
    {
      "cell_type": "markdown",
      "metadata": {
        "id": "view-in-github",
        "colab_type": "text"
      },
      "source": [
        "<a href=\"https://colab.research.google.com/github/farzin23i/SciSchool-Introduction_to_Machine_Learning/blob/main/week1/ML_1_1_Linear_Regression.ipynb\" target=\"_parent\"><img src=\"https://colab.research.google.com/assets/colab-badge.svg\" alt=\"Open In Colab\"/></a>"
      ]
    },
    {
      "cell_type": "code",
      "execution_count": 1,
      "metadata": {
        "id": "ck5oYeHp-beE"
      },
      "outputs": [],
      "source": [
        "import numpy as np \n",
        "import pylab as plt "
      ]
    },
    {
      "cell_type": "code",
      "source": [
        "plt.style.use ('seaborn')"
      ],
      "metadata": {
        "id": "0eAQICRtduat"
      },
      "execution_count": 2,
      "outputs": []
    },
    {
      "cell_type": "markdown",
      "source": [
        "# Linear Regression"
      ],
      "metadata": {
        "id": "ceuhSYyqgK92"
      }
    },
    {
      "cell_type": "code",
      "source": [
        "n= 100\n",
        "x= np.linspace (0, 10, n)\n",
        "y= 10 + 5*x + 10*np.random.normal (size=n)\n",
        "\n",
        "plt.plot (x, y, 'o')"
      ],
      "metadata": {
        "id": "5ZFjR-GpPNKK",
        "colab": {
          "base_uri": "https://localhost:8080/",
          "height": 364
        },
        "outputId": "8173eb41-64e7-46db-d33d-a2b6c39f581a"
      },
      "execution_count": 16,
      "outputs": [
        {
          "output_type": "execute_result",
          "data": {
            "text/plain": [
              "[<matplotlib.lines.Line2D at 0x7f6d16e960d0>]"
            ]
          },
          "metadata": {},
          "execution_count": 16
        },
        {
          "output_type": "display_data",
          "data": {
            "image/png": "[encoded data removed]",
            "text/plain": [
              "<Figure size 576x396 with 1 Axes>"
            ]
          },
          "metadata": {}
        }
      ]
    },
    {
      "cell_type": "code",
      "source": [
        "def vertical_lines (y):\n",
        "    yl= max(y)+3\n",
        "    plt.ylim (0, yl)\n",
        "    [plt.axvline(x=x[i], ymin=min(y_pred[i], y[i])/yl, ymax=max(y_pred[i], y[i])/yl) for i in range (len(y))]\n",
        "\n",
        "s= (y[-1]-y[0])/(x[-1]-x[0])\n",
        "y_pred= s*x + y[0]\n",
        "\n",
        "plt.plot (x, y, 'o')\n",
        "plt.plot (x, y_pred, marker='d')\n",
        "\n",
        "vertical_lines (y)\n",
        "plt.show ()"
      ],
      "metadata": {
        "id": "OgBkGBBDPOBg",
        "colab": {
          "base_uri": "https://localhost:8080/",
          "height": 347
        },
        "outputId": "3fcf3d1e-da48-48ad-c95d-8ca78ae3043e"
      },
      "execution_count": 17,
      "outputs": [
        {
          "output_type": "display_data",
          "data": {
            "image/png": "[encoded data removed]",
            "text/plain": [
              "<Figure size 576x396 with 1 Axes>"
            ]
          },
          "metadata": {}
        }
      ]
    },
    {
      "cell_type": "markdown",
      "source": [
        ""
      ],
      "metadata": {
        "id": "YWbZCxy2cPyZ"
      }
    },
    {
      "cell_type": "markdown",
      "source": [
        "Hypithesis: $$h_\\theta (x) = \\theta_0 + \\theta_1x $$\n",
        "Loss Function: $$J \\theta_0, \\theta_1) = \\frac{1}{2m} \\sum_{i=1}^{m}  [h_\\theta (x_i) - y_i]^2 $$"
      ],
      "metadata": {
        "id": "uN4OhicaJgdP"
      }
    },
    {
      "cell_type": "code",
      "source": [
        "sum((y_pred-y)**2)/(2*n)"
      ],
      "metadata": {
        "colab": {
          "base_uri": "https://localhost:8080/"
        },
        "id": "UQ8x7Rq-jZWg",
        "outputId": "ae8d2363-37b5-4a22-be43-557d9254a30f"
      },
      "execution_count": 7,
      "outputs": [
        {
          "output_type": "execute_result",
          "data": {
            "text/plain": [
              "56.955137668213176"
            ]
          },
          "metadata": {},
          "execution_count": 7
        }
      ]
    },
    {
      "cell_type": "markdown",
      "source": [
        "Gradient Descent Schematic Algorithm:"
      ],
      "metadata": {
        "id": "s6D2hIYULroA"
      }
    },
    {
      "cell_type": "markdown",
      "source": [
        "<img src='https://drive.google.com/uc?id=1KP6zV7AbmbbqKBs1USJOHahmLddXA-ZK' width=500/>"
      ],
      "metadata": {
        "id": "dE7ir8T2LVHA"
      }
    },
    {
      "cell_type": "markdown",
      "source": [
        "Use scikit learn:"
      ],
      "metadata": {
        "id": "5VW3-HNdL9g7"
      }
    },
    {
      "cell_type": "code",
      "source": [
        "from sklearn.linear_model import LinearRegression"
      ],
      "metadata": {
        "id": "HXwYajfdPN4h"
      },
      "execution_count": 8,
      "outputs": []
    },
    {
      "cell_type": "code",
      "source": [
        "model = LinearRegression()\n",
        "model.fit (x.reshape(-1, 1), y)"
      ],
      "metadata": {
        "colab": {
          "base_uri": "https://localhost:8080/"
        },
        "id": "s0aa5Es3gQtb",
        "outputId": "0471cc09-f9ac-4936-fc17-cc601b538314"
      },
      "execution_count": 18,
      "outputs": [
        {
          "output_type": "execute_result",
          "data": {
            "text/plain": [
              "LinearRegression()"
            ]
          },
          "metadata": {},
          "execution_count": 18
        }
      ]
    },
    {
      "cell_type": "code",
      "source": [
        "a= model.coef_\n",
        "b= model.intercept_"
      ],
      "metadata": {
        "id": "nebjOEQok-Tr"
      },
      "execution_count": 19,
      "outputs": []
    },
    {
      "cell_type": "code",
      "source": [
        "y_pred1= a*x + b\n",
        "\n",
        "plt.plot (x, y, 'o')\n",
        "plt.plot (x, y_pred1) #, marker='d')\n",
        "# plt.plot (x, y_pred) #, marker='d')\n",
        "\n",
        "plt.show ()"
      ],
      "metadata": {
        "colab": {
          "base_uri": "https://localhost:8080/",
          "height": 347
        },
        "id": "_AQN3pB-k6bh",
        "outputId": "67bc19d4-c05c-4796-8f36-c04b2fae31fd"
      },
      "execution_count": 20,
      "outputs": [
        {
          "output_type": "display_data",
          "data": {
            "image/png": "[encoded data removed]",
            "text/plain": [
              "<Figure size 576x396 with 1 Axes>"
            ]
          },
          "metadata": {}
        }
      ]
    },
    {
      "cell_type": "code",
      "source": [
        ""
      ],
      "metadata": {
        "id": "bPRgg5oSlR_h"
      },
      "execution_count": null,
      "outputs": []
    }
  ]
}